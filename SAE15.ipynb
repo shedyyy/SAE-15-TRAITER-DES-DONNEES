{
 "cells": [
  {
   "cell_type": "markdown",
   "id": "edd4a8d2",
   "metadata": {},
   "source": [
    "# SAE 15 : Consommation énergétique d'un dispositif LoRa"
   ]
  },
  {
   "cell_type": "code",
   "execution_count": 4,
   "id": "318180e7",
   "metadata": {},
   "outputs": [],
   "source": [
    "import os\n",
    "import re\n",
    "import pandas as pd\n",
    "import numpy as np\n",
    "import matplotlib.pyplot as plt\n",
    "import seaborn as sns\n",
    "%matplotlib inline"
   ]
  },
  {
   "cell_type": "markdown",
   "id": "2d98fc87",
   "metadata": {},
   "source": [
    "# Fusion des fichiers"
   ]
  },
  {
   "cell_type": "code",
   "execution_count": 5,
   "id": "dd8be241",
   "metadata": {
    "scrolled": true
   },
   "outputs": [
    {
     "data": {
      "text/plain": [
       "(2682781, 5)"
      ]
     },
     "execution_count": 5,
     "metadata": {},
     "output_type": "execute_result"
    }
   ],
   "source": [
    "# Obtenir la liste de tous les fichiers que nous voulons fusionner\n",
    "file_list = os.listdir(r'C:\\Users\\Shpend\\Downloads\\lora-energie-transmission\\lora-energie-transmission\\data\\raw')\n",
    "\n",
    "#Parcourez la liste de fichiers, transformez chacun en un DataFrame et ajoutez-les dans les \"données\" DF\n",
    "data = pd.DataFrame()\n",
    "for f in file_list[1:]:\n",
    "    df = pd.read_csv(r'lora-energie-transmission\\data\\raw\\\\'+f)\n",
    "    data = data.append(df, ignore_index=True)\n",
    "    df.to_csv(\"dataframe.csv\", index=False)\n",
    "data.shape"
   ]
  },
  {
   "cell_type": "markdown",
   "id": "d2eb0a0b",
   "metadata": {},
   "source": [
    "# Valeurs aberrantes et manquantes par variables"
   ]
  },
  {
   "cell_type": "code",
   "execution_count": 6,
   "id": "44bedd0e",
   "metadata": {},
   "outputs": [
    {
     "name": "stdout",
     "output_type": "stream",
     "text": [
      "Nous avons 0 valeurs manquantes pour la variable \"Timestamp (S)\".\n",
      "Cela represent 0.0% des entrées de cette colonne\n",
      "\n",
      "Nous avons 93 valeurs manquantes pour la variable \"File Main Current (A)\".\n",
      "Cela represent 0.0035% des entrées de cette colonne\n",
      "\n",
      "Nous avons 2012103 valeurs manquantes pour la variable \"File Main Voltage (V)\".\n",
      "Cela represent 75.0006% des entrées de cette colonne\n",
      "\n",
      "Nous avons 93 valeurs manquantes pour la variable \"File Main Energy (J)\".\n",
      "Cela represent 0.0035% des entrées de cette colonne\n",
      "\n",
      "Nous avons 2679465 valeurs manquantes pour la variable \"File UART (TXT)\".\n",
      "Cela represent 99.8764% des entrées de cette colonne\n",
      "\n"
     ]
    }
   ],
   "source": [
    "# Cette ligne donne un tableau du nombre de valeurs manquantes dans chaque colonne\n",
    "# dans le même ordre que dans la trame de données\n",
    "missing = data.isnull().sum().values\n",
    "for i in zip(data.columns, missing):\n",
    "    print(f'Nous avons {i[1]} valeurs manquantes pour la variable \\\"{i[0]}\\\".\\n'\n",
    "    +f'Cela represent {round(i[1]/data.shape[0]*100, 4)}% des entrées de cette colonne\\n')"
   ]
  },
  {
   "cell_type": "code",
   "execution_count": 7,
   "id": "839afb5f",
   "metadata": {},
   "outputs": [
    {
     "data": {
      "text/html": [
       "<div>\n",
       "<style scoped>\n",
       "    .dataframe tbody tr th:only-of-type {\n",
       "        vertical-align: middle;\n",
       "    }\n",
       "\n",
       "    .dataframe tbody tr th {\n",
       "        vertical-align: top;\n",
       "    }\n",
       "\n",
       "    .dataframe thead th {\n",
       "        text-align: right;\n",
       "    }\n",
       "</style>\n",
       "<table border=\"1\" class=\"dataframe\">\n",
       "  <thead>\n",
       "    <tr style=\"text-align: right;\">\n",
       "      <th></th>\n",
       "      <th>Timestamp (S)</th>\n",
       "      <th>File Main Current (A)</th>\n",
       "      <th>File Main Voltage (V)</th>\n",
       "      <th>File Main Energy (J)</th>\n",
       "    </tr>\n",
       "  </thead>\n",
       "  <tbody>\n",
       "    <tr>\n",
       "      <th>count</th>\n",
       "      <td>2.682781e+06</td>\n",
       "      <td>2.682688e+06</td>\n",
       "      <td>670678.000000</td>\n",
       "      <td>2.682688e+06</td>\n",
       "    </tr>\n",
       "    <tr>\n",
       "      <th>mean</th>\n",
       "      <td>4.510311e+01</td>\n",
       "      <td>1.203362e-01</td>\n",
       "      <td>3.499543</td>\n",
       "      <td>1.911122e+01</td>\n",
       "    </tr>\n",
       "    <tr>\n",
       "      <th>std</th>\n",
       "      <td>2.916519e+01</td>\n",
       "      <td>2.814267e-02</td>\n",
       "      <td>0.000802</td>\n",
       "      <td>1.326596e+01</td>\n",
       "    </tr>\n",
       "    <tr>\n",
       "      <th>min</th>\n",
       "      <td>-1.000000e-06</td>\n",
       "      <td>3.624300e-02</td>\n",
       "      <td>3.493000</td>\n",
       "      <td>3.225147e-05</td>\n",
       "    </tr>\n",
       "    <tr>\n",
       "      <th>25%</th>\n",
       "      <td>2.095625e+01</td>\n",
       "      <td>1.300810e-01</td>\n",
       "      <td>3.499000</td>\n",
       "      <td>8.034673e+00</td>\n",
       "    </tr>\n",
       "    <tr>\n",
       "      <th>50%</th>\n",
       "      <td>4.191550e+01</td>\n",
       "      <td>1.306570e-01</td>\n",
       "      <td>3.500000</td>\n",
       "      <td>1.753946e+01</td>\n",
       "    </tr>\n",
       "    <tr>\n",
       "      <th>75%</th>\n",
       "      <td>6.524025e+01</td>\n",
       "      <td>1.309860e-01</td>\n",
       "      <td>3.500000</td>\n",
       "      <td>2.835552e+01</td>\n",
       "    </tr>\n",
       "    <tr>\n",
       "      <th>max</th>\n",
       "      <td>1.189260e+02</td>\n",
       "      <td>1.351800e-01</td>\n",
       "      <td>3.507000</td>\n",
       "      <td>5.137382e+01</td>\n",
       "    </tr>\n",
       "  </tbody>\n",
       "</table>\n",
       "</div>"
      ],
      "text/plain": [
       "       Timestamp (S)  File Main Current (A)  File Main Voltage (V)  \\\n",
       "count   2.682781e+06           2.682688e+06          670678.000000   \n",
       "mean    4.510311e+01           1.203362e-01               3.499543   \n",
       "std     2.916519e+01           2.814267e-02               0.000802   \n",
       "min    -1.000000e-06           3.624300e-02               3.493000   \n",
       "25%     2.095625e+01           1.300810e-01               3.499000   \n",
       "50%     4.191550e+01           1.306570e-01               3.500000   \n",
       "75%     6.524025e+01           1.309860e-01               3.500000   \n",
       "max     1.189260e+02           1.351800e-01               3.507000   \n",
       "\n",
       "       File Main Energy (J)  \n",
       "count          2.682688e+06  \n",
       "mean           1.911122e+01  \n",
       "std            1.326596e+01  \n",
       "min            3.225147e-05  \n",
       "25%            8.034673e+00  \n",
       "50%            1.753946e+01  \n",
       "75%            2.835552e+01  \n",
       "max            5.137382e+01  "
      ]
     },
     "execution_count": 7,
     "metadata": {},
     "output_type": "execute_result"
    }
   ],
   "source": [
    "data.describe()"
   ]
  },
  {
   "cell_type": "code",
   "execution_count": 8,
   "id": "b9035841",
   "metadata": {},
   "outputs": [
    {
     "data": {
      "image/png": "[encoded data removed]",
      "text/plain": [
       "<Figure size 432x288 with 1 Axes>"
      ]
     },
     "metadata": {
      "needs_background": "light"
     },
     "output_type": "display_data"
    }
   ],
   "source": [
    "plt.figure()\n",
    "plt.hist(data['File Main Current (A)'], bins=100);"
   ]
  },
  {
   "cell_type": "code",
   "execution_count": 10,
   "id": "84fd8d85",
   "metadata": {},
   "outputs": [
    {
     "name": "stdout",
     "output_type": "stream",
     "text": [
      "11.58% des valeurs dans \"File Main Current (A)\" écartent fortement de la moyenne, ce sont 310761 valeurs\n"
     ]
    }
   ],
   "source": [
    "x = data[data['File Main Current (A)']<0.06].shape[0]\n",
    "pourcentage = round(x/data.shape[0]*100, 2)\n",
    "print(f'{pourcentage}% des valeurs dans \\\"File Main Current (A)\\\" écartent fortement de la moyenne, ce sont {x} valeurs')"
   ]
  },
  {
   "cell_type": "markdown",
   "id": "4433f913",
   "metadata": {},
   "source": [
    "Même si ces valeurs sont assez nombreux, ils ne se trouvent pas distribués entre la moyenne et la plus petite valeur, mais elles sont concentrées autour de deux valeurs qui sont plus de deux écart-types moins que la moyenne, très loin du reste des données. C'est pour cette raison que nous allons les qualifier de valeurs aberrantes. En étudiant le résultat de la fonction .describe(), nous ne constatons pas l'existence d'autres valeurs aberrantes."
   ]
  },
  {
   "cell_type": "markdown",
   "id": "c192704b",
   "metadata": {},
   "source": [
    "# Valeurs aberrantes et manquantes par observation\n",
    "Nous avons déjà constaté que la variable \"File UART (TXT)\" a des valeurs manquantes dans 99.8764% des observations. Nous allons donc répondre à cette question sans l'inclure."
   ]
  },
  {
   "cell_type": "code",
   "execution_count": 11,
   "id": "f4aff535",
   "metadata": {},
   "outputs": [
    {
     "name": "stdout",
     "output_type": "stream",
     "text": [
      "2012103 observations contiennent des valeurs manquantes.\n",
      "Cela représente 75.0% des données\n"
     ]
    }
   ],
   "source": [
    "df = data.drop(columns='File UART (TXT)')\n",
    "# A est un tableau contenant des 0 s'il n'y avait pas de valeurs manquantes dans l'entrée et des nombres> 0 s'il y en avait\n",
    "A = df.isnull().values.sum(axis=1)\n",
    "# Nous créons un tableau de 1 et de 0 et calculons la somme pour obtenir le nombre de lignes avec des valeurs manquantes\n",
    "# puis on divise ce nombre par le nombre d'observations et on multiplie par 100\n",
    "print(f'{(A>0).sum()} observations contiennent des valeurs manquantes.\\nCela représente '\n",
    "      +f'{round((A>0).sum()/df.shape[0]*100, 2)}% des données')"
   ]
  },
  {
   "cell_type": "markdown",
   "id": "a80eaa40",
   "metadata": {},
   "source": [
    "Nous avons déjà vu que 11.58% des observations avaient des valeurs aberrantes, mais combien d'observations ont des valeurs aberrantes et/ou des valeurs manquantes ?"
   ]
  },
  {
   "cell_type": "code",
   "execution_count": 12,
   "id": "0a959e0e",
   "metadata": {},
   "outputs": [
    {
     "name": "stdout",
     "output_type": "stream",
     "text": [
      "232598 les observations contiennent des valeurs manquantes et/ou des valeurs aberrantes.\n",
      "Cela représente 74.85% des données\n"
     ]
    }
   ],
   "source": [
    "df = data[data['File Main Current (A)']<0.06].drop(columns='File UART (TXT)')\n",
    "A = df.isnull().values.sum(axis=1)\n",
    "print(f'{(A>0).sum()} les observations contiennent des valeurs manquantes et/ou des valeurs aberrantes.\\nCela représente '\n",
    "      +f'{round((A>0).sum()/df.shape[0]*100, 2)}% des données')"
   ]
  },
  {
   "cell_type": "markdown",
   "id": "b64d97d8",
   "metadata": {},
   "source": [
    "# Différence d'énergie entre chaque observation"
   ]
  },
  {
   "cell_type": "code",
   "execution_count": 13,
   "id": "80bd76b2",
   "metadata": {},
   "outputs": [],
   "source": [
    "# Nous allons créer une nouvelle colonne avec chaque consommation d'énergie avancée d'un indice\n",
    "# Ensuite, nous calculons la différence entre chaque observation et la précédente dans Energy_Diff\n",
    "c = np.append(np.array([np.nan]), data['File Main Energy (J)'])[:-1]\n",
    "data['Offset'] = c\n",
    "data['Energy_Diff'] = data['File Main Energy (J)']-data['Offset']"
   ]
  },
  {
   "cell_type": "code",
   "execution_count": 14,
   "id": "ec95c8f2",
   "metadata": {
    "scrolled": true
   },
   "outputs": [
    {
     "data": {
      "image/png": "[encoded data removed]",
      "text/plain": [
       "<Figure size 432x288 with 1 Axes>"
      ]
     },
     "metadata": {
      "needs_background": "light"
     },
     "output_type": "display_data"
    }
   ],
   "source": [
    "plt.boxplot(data['Energy_Diff'].sample(1000));"
   ]
  },
  {
   "cell_type": "markdown",
   "id": "a7a536d7",
   "metadata": {},
   "source": [
    "# ComputeMean et ComputeMedian"
   ]
  },
  {
   "cell_type": "code",
   "execution_count": 15,
   "id": "3ee6c734",
   "metadata": {},
   "outputs": [],
   "source": [
    "def ComputeMean(c=str):\n",
    "    \n",
    "    mean = data[c].mean()\n",
    "    \n",
    "    return mean\n",
    "\n",
    "def ComputeMedian(c=str):\n",
    "    \n",
    "    median = data[c].median()\n",
    "    \n",
    "    return median"
   ]
  },
  {
   "cell_type": "code",
   "execution_count": 16,
   "id": "02614f36",
   "metadata": {},
   "outputs": [
    {
     "data": {
      "text/plain": [
       "0.130657"
      ]
     },
     "execution_count": 16,
     "metadata": {},
     "output_type": "execute_result"
    }
   ],
   "source": [
    "ComputeMedian('File Main Current (A)')"
   ]
  },
  {
   "cell_type": "markdown",
   "id": "a6410b91",
   "metadata": {},
   "source": [
    "# Courbes \n",
    "On nous demande de construire des courbes de consommation totale d'énergie selon les deux facteurs d'étalement et des taux de bits redondants. Pour cela, il faut pouvoir identifier les observations selon ces caractéristiques :"
   ]
  },
  {
   "cell_type": "code",
   "execution_count": 21,
   "id": "be503f36",
   "metadata": {},
   "outputs": [
    {
     "name": "stderr",
     "output_type": "stream",
     "text": [
      "C:\\ProgramData\\Anaconda3\\lib\\site-packages\\IPython\\core\\interactiveshell.py:3444: DtypeWarning: Columns (4) have mixed types.Specify dtype option on import or set low_memory=False.\n",
      "  exec(code_obj, self.user_global_ns, self.user_ns)\n"
     ]
    },
    {
     "data": {
      "text/plain": [
       "(2682781, 7)"
      ]
     },
     "execution_count": 21,
     "metadata": {},
     "output_type": "execute_result"
    }
   ],
   "source": [
    "file_list = os.listdir(r'C:\\Users\\Shpend\\Downloads\\lora-energie-transmission\\lora-energie-transmission\\data\\raw')\n",
    "\n",
    "data1 = pd.DataFrame()\n",
    "for f in file_list[1:]:\n",
    "    df = pd.read_csv(r'lora-energie-transmission\\data\\raw\\\\'+f)\n",
    "    \n",
    "    # Type de facteur d'étalement, 12 ou 7\n",
    "    if re.search('energy-125-12[\\w]*', f):\n",
    "        df['SF'] = np.zeros((df.shape[0]))+12\n",
    "    else: df['SF'] = np.zeros((df.shape[0]))+7\n",
    "        \n",
    "    # Nous créons un tableau de caractères\n",
    "    a = np.chararray((df.shape[0]), unicode=True, itemsize=5)\n",
    "    # Ajoutez les valeurs que nous voulons, extraites du nom de fichier en utilisant regex\n",
    "    a[:] = re.findall('(?:energy-125-[127]{1,2}-)(4_[\\d]{1})', f)[0].replace('_','/')\n",
    "    # Créer la colonne\n",
    "    df['TBR'] = a\n",
    "    \n",
    "    \n",
    "    \n",
    "    data1 = data1.append(df, ignore_index=True)\n",
    "data1.shape"
   ]
  },
  {
   "cell_type": "code",
   "execution_count": 22,
   "id": "abb4994b",
   "metadata": {
    "scrolled": true
   },
   "outputs": [
    {
     "data": {
      "text/html": [
       "<div>\n",
       "<style scoped>\n",
       "    .dataframe tbody tr th:only-of-type {\n",
       "        vertical-align: middle;\n",
       "    }\n",
       "\n",
       "    .dataframe tbody tr th {\n",
       "        vertical-align: top;\n",
       "    }\n",
       "\n",
       "    .dataframe thead th {\n",
       "        text-align: right;\n",
       "    }\n",
       "</style>\n",
       "<table border=\"1\" class=\"dataframe\">\n",
       "  <thead>\n",
       "    <tr style=\"text-align: right;\">\n",
       "      <th></th>\n",
       "      <th>Timestamp (S)</th>\n",
       "      <th>File Main Current (A)</th>\n",
       "      <th>File Main Voltage (V)</th>\n",
       "      <th>File Main Energy (J)</th>\n",
       "      <th>File UART (TXT)</th>\n",
       "      <th>SF</th>\n",
       "      <th>TBR</th>\n",
       "    </tr>\n",
       "  </thead>\n",
       "  <tbody>\n",
       "    <tr>\n",
       "      <th>2533707</th>\n",
       "      <td>37.24800</td>\n",
       "      <td>0.130986</td>\n",
       "      <td>3.5</td>\n",
       "      <td>15.315530</td>\n",
       "      <td>NaN</td>\n",
       "      <td>7.0</td>\n",
       "      <td>4/8</td>\n",
       "    </tr>\n",
       "    <tr>\n",
       "      <th>2667249</th>\n",
       "      <td>70.63325</td>\n",
       "      <td>0.047222</td>\n",
       "      <td>NaN</td>\n",
       "      <td>30.361100</td>\n",
       "      <td>NaN</td>\n",
       "      <td>7.0</td>\n",
       "      <td>4/8</td>\n",
       "    </tr>\n",
       "    <tr>\n",
       "      <th>312984</th>\n",
       "      <td>78.24600</td>\n",
       "      <td>0.130492</td>\n",
       "      <td>3.5</td>\n",
       "      <td>34.467050</td>\n",
       "      <td>NaN</td>\n",
       "      <td>12.0</td>\n",
       "      <td>4/5</td>\n",
       "    </tr>\n",
       "    <tr>\n",
       "      <th>1752738</th>\n",
       "      <td>19.20775</td>\n",
       "      <td>0.129649</td>\n",
       "      <td>NaN</td>\n",
       "      <td>6.793571</td>\n",
       "      <td>NaN</td>\n",
       "      <td>7.0</td>\n",
       "      <td>4/5</td>\n",
       "    </tr>\n",
       "    <tr>\n",
       "      <th>369071</th>\n",
       "      <td>2.60050</td>\n",
       "      <td>0.038504</td>\n",
       "      <td>NaN</td>\n",
       "      <td>0.347102</td>\n",
       "      <td>NaN</td>\n",
       "      <td>12.0</td>\n",
       "      <td>4/6</td>\n",
       "    </tr>\n",
       "  </tbody>\n",
       "</table>\n",
       "</div>"
      ],
      "text/plain": [
       "         Timestamp (S)  File Main Current (A)  File Main Voltage (V)  \\\n",
       "2533707       37.24800               0.130986                    3.5   \n",
       "2667249       70.63325               0.047222                    NaN   \n",
       "312984        78.24600               0.130492                    3.5   \n",
       "1752738       19.20775               0.129649                    NaN   \n",
       "369071         2.60050               0.038504                    NaN   \n",
       "\n",
       "         File Main Energy (J) File UART (TXT)    SF  TBR  \n",
       "2533707             15.315530             NaN   7.0  4/8  \n",
       "2667249             30.361100             NaN   7.0  4/8  \n",
       "312984              34.467050             NaN  12.0  4/5  \n",
       "1752738              6.793571             NaN   7.0  4/5  \n",
       "369071               0.347102             NaN  12.0  4/6  "
      ]
     },
     "execution_count": 22,
     "metadata": {},
     "output_type": "execute_result"
    }
   ],
   "source": [
    "data1.sample(5)"
   ]
  },
  {
   "cell_type": "markdown",
   "id": "e34bf6b6",
   "metadata": {},
   "source": [
    "Maintenant nous pouvons faire les courbes"
   ]
  },
  {
   "cell_type": "code",
   "execution_count": 23,
   "id": "336a9fc3",
   "metadata": {},
   "outputs": [
    {
     "data": {
      "text/plain": [
       "SF    TBR\n",
       "7.0   4/5    2.113360e+06\n",
       "      4/6    2.772479e+06\n",
       "      4/7    3.492509e+06\n",
       "      4/8    4.575630e+06\n",
       "12.0  4/5    6.885575e+06\n",
       "      4/6    8.336073e+06\n",
       "      4/7    1.078057e+07\n",
       "      4/8    1.231324e+07\n",
       "Name: File Main Energy (J), dtype: float64"
      ]
     },
     "execution_count": 23,
     "metadata": {},
     "output_type": "execute_result"
    }
   ],
   "source": [
    "# Consommation totale de données pour chaque type de TBR\n",
    "CE = data1.groupby(['SF', 'TBR']).sum()['File Main Energy (J)']\n",
    "CE"
   ]
  },
  {
   "cell_type": "code",
   "execution_count": 24,
   "id": "28cf9414",
   "metadata": {
    "scrolled": true
   },
   "outputs": [
    {
     "data": {
      "image/png": "[encoded data removed]",
      "text/plain": [
       "<Figure size 504x360 with 1 Axes>"
      ]
     },
     "metadata": {
      "needs_background": "light"
     },
     "output_type": "display_data"
    }
   ],
   "source": [
    "plt.figure(figsize=(7,5))\n",
    "plt.title('Consommation dénergie agrégée pour chaque\\nfacteur de propagation et TBR')\n",
    "plt.ylabel('Tot. consommation énergie')\n",
    "plt.xlabel('TBR')\n",
    "plt.plot(CE[7], label='SF 7')\n",
    "plt.plot(CE[12], label='SF 12')\n",
    "plt.legend();"
   ]
  },
  {
   "cell_type": "markdown",
   "id": "3d94849a",
   "metadata": {},
   "source": [
    "# FIN DE TRAVAIL"
   ]
  },
  {
   "cell_type": "markdown",
   "id": "17346242",
   "metadata": {},
   "source": [
    "# FAIT PAR:"
   ]
  },
  {
   "cell_type": "markdown",
   "id": "33c3b076",
   "metadata": {},
   "source": [
    "# Shpend Rashiti, Emir Eraslan, Jomath Sembe"
   ]
  },
  {
   "cell_type": "code",
   "execution_count": null,
   "id": "18367f7a",
   "metadata": {},
   "outputs": [],
   "source": []
  }
 ],
 "metadata": {
  "kernelspec": {
   "display_name": "Python 3 (ipykernel)",
   "language": "python",
   "name": "python3"
  },
  "language_info": {
   "codemirror_mode": {
    "name": "ipython",
    "version": 3
   },
   "file_extension": ".py",
   "mimetype": "text/x-python",
   "name": "python",
   "nbconvert_exporter": "python",
   "pygments_lexer": "ipython3",
   "version": "3.9.7"
  }
 },
 "nbformat": 4,
 "nbformat_minor": 5
}
